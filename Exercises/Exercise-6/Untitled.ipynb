{
 "cells": [
  {
   "cell_type": "code",
   "execution_count": 76,
   "id": "5982b3a4",
   "metadata": {},
   "outputs": [],
   "source": [
    "from pyspark.sql import SparkSession\n",
    "\n",
    "\n",
    "\n",
    "spark = SparkSession.builder\\\n",
    "    .appName('Exercise6') \\\n",
    "    .getOrCreate()\n",
    "data = spark.read\\\n",
    "            .option(\"header\",\"true\")\\\n",
    "            .option(\"infer_schema\",\"true\")\\\n",
    "            .csv(\"/Users/mohan_sharma/Desktop/data engineer practice/exercise1/Exercises/Exercise-6/data/Divvy_Trips_2019_Q4.csv\")\n",
    "\n",
    "data.createOrReplaceTempView(\"data_tbl\")\n",
    "\n",
    "# What is the average trip duration per day?\n",
    "avg_trip_duration = spark.sql(\"\"\"select date(start_time) as date ,avg(tripduration) \n",
    "                     from data_tbl \n",
    "                     group by date(start_time)\n",
    "                     order by 1\n",
    "                     \"\"\")\n",
    "\n",
    "# How many trips were taken each day?\n",
    "trips_each_day = spark.sql(\"\"\"select date(start_time) as date ,count(*) as total_trips\n",
    "                     from data_tbl \n",
    "                     group by date(start_time)\n",
    "                     order by 1\n",
    "                     \"\"\")\n",
    "\n",
    "# What was the most popular starting trip station for each month?\n",
    "most_popular_starting_station = spark.sql(\"\"\"\n",
    "                    with cte as (\n",
    "                    select extract(MONTH from start_time) as month,\n",
    "                    from_station_name ,count(*) as total_trips,\n",
    "                    row_number() over (partition by extract(MONTH from start_time) order by count(*) desc) as rn\n",
    "                    from data_tbl \n",
    "                    group by 1,2\n",
    "                    )\n",
    "                    select month,from_station_name,total_trips from cte where rn = 1\n",
    "                    order by 1\"\"\"\n",
    "                    )\n",
    "# What were the top 3 trip stations each day for the last two weeks?\n",
    "top_3_trip_station_2weeks = spark.sql(\"\"\"\n",
    "                    select date,from_station_name,trips from(\n",
    "                    select date(start_time) as date,\n",
    "                    from_station_name,\n",
    "                    count(*) as trips,\n",
    "                    row_number() over(partition by date(start_time) order by count(*) desc) as rn \n",
    "                    from data_tbl \n",
    "                    where date(start_time) >= date_sub((select date(max(start_time)) from data_tbl),14)\n",
    "                    group by date(start_time),from_station_name\n",
    "                    order by 1,trips desc)\n",
    "                    where rn <= 3\n",
    "                     \"\"\")\n",
    "\n",
    "# Do Males or Females take longer trips on average?\n",
    "male_or_females = spark.sql(\"\"\"\n",
    "                    select gender,avg(tripduration) from data_tbl\n",
    "                    where gender is not null\n",
    "                    group by gender order by 2 desc\n",
    "                     \"\"\")\n",
    "ans = male_or_females.collect()[0].gender\n",
    "# What is the top 10 ages of those that take the longest trips, and shortest?\n",
    "top_10_ages = spark.sql(\"\"\"\n",
    "                    select * from (\n",
    "                    (select (extract(year from current_date()) - birthyear ) as age,\n",
    "                    avg(tripduration) as trip_dur\n",
    "                    from data_tbl\n",
    "                    where birthyear is not null\n",
    "                    group by 1\n",
    "                    order by 2 desc limit 10)\n",
    "                    union all \n",
    "                    (select (extract(year from current_date()) - birthyear ) as age,\n",
    "                    avg(tripduration) as trip_dur\n",
    "                    from data_tbl\n",
    "                    where birthyear is not null\n",
    "                    group by 1\n",
    "                    order by 2  limit 10)\n",
    "                    \n",
    "                    ) order by trip_dur\n",
    "                     \"\"\")\n",
    "\n",
    "\n"
   ]
  },
  {
   "cell_type": "code",
   "execution_count": 77,
   "id": "f3fbcb84",
   "metadata": {},
   "outputs": [
    {
     "name": "stdout",
     "output_type": "stream",
     "text": [
      "+-----+------------------+\n",
      "|  age|          trip_dur|\n",
      "+-----+------------------+\n",
      "| 90.0|              null|\n",
      "| 84.0|             163.5|\n",
      "| 92.0|             282.0|\n",
      "| 81.0|           295.625|\n",
      "| 94.0|             298.5|\n",
      "|102.0|315.52127659574467|\n",
      "| 86.0|            336.25|\n",
      "| 23.0|351.78556658395365|\n",
      "| 80.0|             363.0|\n",
      "| 22.0|381.79213483146066|\n",
      "| 21.0| 546.2445652173913|\n",
      "| 75.0| 547.8658146964856|\n",
      "| 74.0| 551.9635854341736|\n",
      "| 93.0|             561.2|\n",
      "|124.0| 597.7906976744187|\n",
      "| 20.0| 651.7428571428571|\n",
      "| 79.0| 660.6029411764706|\n",
      "|122.0|             689.0|\n",
      "| 85.0|             730.0|\n",
      "| 89.0|             774.0|\n",
      "+-----+------------------+\n",
      "\n"
     ]
    }
   ],
   "source": [
    "top_10_ages.show()\n"
   ]
  },
  {
   "cell_type": "code",
   "execution_count": 64,
   "id": "957b92f8",
   "metadata": {},
   "outputs": [],
   "source": []
  },
  {
   "cell_type": "code",
   "execution_count": 65,
   "id": "cc4b497d",
   "metadata": {},
   "outputs": [
    {
     "data": {
      "text/plain": [
       "'Female'"
      ]
     },
     "execution_count": 65,
     "metadata": {},
     "output_type": "execute_result"
    }
   ],
   "source": []
  },
  {
   "cell_type": "code",
   "execution_count": null,
   "id": "e8eea729",
   "metadata": {},
   "outputs": [],
   "source": []
  }
 ],
 "metadata": {
  "kernelspec": {
   "display_name": "Python 3 (ipykernel)",
   "language": "python",
   "name": "python3"
  },
  "language_info": {
   "codemirror_mode": {
    "name": "ipython",
    "version": 3
   },
   "file_extension": ".py",
   "mimetype": "text/x-python",
   "name": "python",
   "nbconvert_exporter": "python",
   "pygments_lexer": "ipython3",
   "version": "3.9.7"
  }
 },
 "nbformat": 4,
 "nbformat_minor": 5
}
